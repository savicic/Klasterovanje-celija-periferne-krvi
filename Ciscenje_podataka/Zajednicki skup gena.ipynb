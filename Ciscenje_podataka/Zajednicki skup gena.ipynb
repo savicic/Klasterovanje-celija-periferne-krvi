{
 "cells": [
  {
   "cell_type": "code",
   "execution_count": 1,
   "metadata": {},
   "outputs": [],
   "source": [
    "import pandas as pd\n",
    "import numpy as np"
   ]
  },
  {
   "cell_type": "markdown",
   "metadata": {},
   "source": [
    "Ucitavanje svih datoteka i uzimanje skupa gena koji su u njima"
   ]
  },
  {
   "cell_type": "code",
   "execution_count": 2,
   "metadata": {},
   "outputs": [],
   "source": [
    "data =['GSM3892570_PBMC_DRESS1_filtered_gene_bc_matrices_h5.csv', 'GSM3892571_PBMC_HV_filtered_gene_bc_matrices_h5.csv', 'GSM3892572_PBMC_T4_CTRL_filtered_gene_bc_matrices_h5.csv', \n",
    "       'GSM3892573_PBMC_T4_BACT_filtered_gene_bc_matrices_h5.csv', 'GSM3892574_DRESS_Day4_BACT_filtered_gene_bc_matrices_h5.csv', \n",
    "       'GSM3892575_DRESS_Day4_TOFA_filtered_gene_bc_matrices_h5.csv', 'GSM3892576_PBMC_POST2W_filtered_gene_bc_matrices_h5.csv']\n",
    "\n",
    "gsm70_geneList = []\n",
    "gsm71_geneList = []\n",
    "gsm72_geneList = []\n",
    "gsm73_geneList = []\n",
    "gsm74_geneList = []\n",
    "gsm75_geneList = []\n",
    "gsm76_geneList = []\n",
    "gene_lists=[]\n",
    "\n",
    "df = pd.DataFrame()"
   ]
  },
  {
   "cell_type": "code",
   "execution_count": 3,
   "metadata": {},
   "outputs": [],
   "source": [
    "# prva datoteka\n",
    "df = pd.read_csv(data[0])\n",
    "gsm70_geneList = list(df[\"Index\"])"
   ]
  },
  {
   "cell_type": "code",
   "execution_count": 4,
   "metadata": {},
   "outputs": [],
   "source": [
    "# druga datoteka\n",
    "df = pd.read_csv(data[1])\n",
    "gsm71_geneList = list(df[\"Index\"])"
   ]
  },
  {
   "cell_type": "code",
   "execution_count": 5,
   "metadata": {},
   "outputs": [],
   "source": [
    "# treca datoteka\n",
    "df = pd.read_csv(data[2])\n",
    "gsm72_geneList = list(df[\"Index\"])"
   ]
  },
  {
   "cell_type": "code",
   "execution_count": 6,
   "metadata": {},
   "outputs": [],
   "source": [
    "# cetvrta datoteka\n",
    "df = pd.read_csv(data[3])\n",
    "gsm73_geneList = list(df[\"Index\"])"
   ]
  },
  {
   "cell_type": "code",
   "execution_count": 7,
   "metadata": {},
   "outputs": [],
   "source": [
    "# peta datoteka\n",
    "df = pd.read_csv(data[4])\n",
    "gsm74_geneList = list(df[\"Index\"])"
   ]
  },
  {
   "cell_type": "code",
   "execution_count": 8,
   "metadata": {},
   "outputs": [],
   "source": [
    "# sesta datoteka\n",
    "df = pd.read_csv(data[5])\n",
    "gsm75_geneList = list(df[\"Index\"])"
   ]
  },
  {
   "cell_type": "code",
   "execution_count": 9,
   "metadata": {},
   "outputs": [],
   "source": [
    "# sedma datoteka\n",
    "df = pd.read_csv(data[6])\n",
    "gsm76_geneList = list(df[\"Index\"])"
   ]
  },
  {
   "cell_type": "code",
   "execution_count": 10,
   "metadata": {},
   "outputs": [
    {
     "data": {
      "text/plain": [
       "[33694, 33694, 33694, 33694, 33694, 33694, 33538]"
      ]
     },
     "execution_count": 10,
     "metadata": {},
     "output_type": "execute_result"
    }
   ],
   "source": [
    "gene_lists_lengt=[]\n",
    "gene_lists=[gsm70_geneList, gsm71_geneList, gsm72_geneList, gsm73_geneList, gsm74_geneList, gsm75_geneList, gsm76_geneList]\n",
    "\n",
    "for i in range(len(gene_lists)):\n",
    "    gene_lists_lengt.append(len(gene_lists[i]))\n",
    "\n",
    "gene_lists_lengt"
   ]
  },
  {
   "cell_type": "markdown",
   "metadata": {},
   "source": [
    "Izbacujemo gene koji nisu u common_human_list datoteci i onda trazimo zajednicki skup gena za sve datoteke"
   ]
  },
  {
   "cell_type": "code",
   "execution_count": 11,
   "metadata": {},
   "outputs": [
    {
     "data": {
      "text/plain": [
       "30710"
      ]
     },
     "execution_count": 11,
     "metadata": {},
     "output_type": "execute_result"
    }
   ],
   "source": [
    "chl = pd.read_csv(\"common_human_list.csv\")\n",
    "ensg_id = list(chl[\"ENSG_ID\"])\n",
    "\n",
    "len(ensg_id)"
   ]
  },
  {
   "cell_type": "code",
   "execution_count": 12,
   "metadata": {},
   "outputs": [],
   "source": [
    "# izbacujemo sve gene koji nisu validni\n",
    "for gene_list in gene_lists:\n",
    "    remove = []\n",
    "    for i in range(len(gene_list)):\n",
    "        if gene_list[i] not in ensg_id:\n",
    "            remove.append(gene_list[i])\n",
    "    for j in range(len(remove)):\n",
    "        gene_list.remove(remove[j])\n"
   ]
  },
  {
   "cell_type": "code",
   "execution_count": 13,
   "metadata": {},
   "outputs": [
    {
     "data": {
      "text/plain": [
       "[30710, 30710, 30710, 30710, 30710, 30710, 30710]"
      ]
     },
     "execution_count": 13,
     "metadata": {},
     "output_type": "execute_result"
    }
   ],
   "source": [
    "gene_lists_lengt=[]\n",
    "for i in range(len(gene_lists)):\n",
    "    gene_lists_lengt.append(len(gene_lists[i]))\n",
    "\n",
    "gene_lists_lengt"
   ]
  },
  {
   "cell_type": "code",
   "execution_count": 14,
   "metadata": {},
   "outputs": [
    {
     "data": {
      "text/plain": [
       "array([0., 0., 0., 0., 0., 0., 0.])"
      ]
     },
     "execution_count": 14,
     "metadata": {},
     "output_type": "execute_result"
    }
   ],
   "source": [
    "# provera da li postoji neki gen u nekoj datoteci koji se ne nalazi u ostalim \n",
    "not_in_other_gene_lists_len=np.zeros(7)\n",
    "for g in range(len(gene_lists)):\n",
    "    gene_list = gene_lists[g]\n",
    "    for i in range(len(gene_list)):\n",
    "        if gene_list[i] not in gene_lists[0]:\n",
    "            not_in_other_gene_lists_len[g] += 1\n",
    "        elif gene_list[i] not in gene_lists[1]:\n",
    "            not_in_other_gene_lists_len[g] += 1\n",
    "        elif gene_list[i] not in gene_lists[2]:\n",
    "            not_in_other_gene_lists_len[g] += 1\n",
    "        elif gene_list[i] not in gene_lists[3]:\n",
    "            not_in_other_gene_lists_len[g] += 1\n",
    "        elif gene_list[i] not in gene_lists[4]:\n",
    "            not_in_other_gene_lists_len[g] += 1\n",
    "        elif gene_list[i] not in gene_lists[5]:\n",
    "            not_in_other_gene_lists_len[g] += 1\n",
    "        elif gene_list[i] not in gene_lists[6]:\n",
    "            not_in_other_gene_lists_len[g] += 1\n",
    "\n",
    "not_in_other_gene_lists_len\n"
   ]
  },
  {
   "cell_type": "code",
   "execution_count": 16,
   "metadata": {},
   "outputs": [],
   "source": [
    "# posto ne postoji ovo je skup gena koji treba da sadrzi svaka datoteka\n",
    "valid_genes = pd.DataFrame(gsm70_geneList, columns=['Index'])\n",
    "valid_genes.head()\n",
    "valid_genes.to_csv(\"Valid_genes.csv\", index=False, header=list(valid_genes.columns))"
   ]
  },
  {
   "cell_type": "code",
   "execution_count": 18,
   "metadata": {},
   "outputs": [
    {
     "data": {
      "text/html": [
       "<div>\n",
       "<style scoped>\n",
       "    .dataframe tbody tr th:only-of-type {\n",
       "        vertical-align: middle;\n",
       "    }\n",
       "\n",
       "    .dataframe tbody tr th {\n",
       "        vertical-align: top;\n",
       "    }\n",
       "\n",
       "    .dataframe thead th {\n",
       "        text-align: right;\n",
       "    }\n",
       "</style>\n",
       "<table border=\"1\" class=\"dataframe\">\n",
       "  <thead>\n",
       "    <tr style=\"text-align: right;\">\n",
       "      <th></th>\n",
       "      <th>Index</th>\n",
       "    </tr>\n",
       "  </thead>\n",
       "  <tbody>\n",
       "    <tr>\n",
       "      <th>0</th>\n",
       "      <td>ENSG00000243485</td>\n",
       "    </tr>\n",
       "    <tr>\n",
       "      <th>1</th>\n",
       "      <td>ENSG00000237613</td>\n",
       "    </tr>\n",
       "    <tr>\n",
       "      <th>2</th>\n",
       "      <td>ENSG00000186092</td>\n",
       "    </tr>\n",
       "    <tr>\n",
       "      <th>3</th>\n",
       "      <td>ENSG00000238009</td>\n",
       "    </tr>\n",
       "    <tr>\n",
       "      <th>4</th>\n",
       "      <td>ENSG00000239945</td>\n",
       "    </tr>\n",
       "  </tbody>\n",
       "</table>\n",
       "</div>"
      ],
      "text/plain": [
       "             Index\n",
       "0  ENSG00000243485\n",
       "1  ENSG00000237613\n",
       "2  ENSG00000186092\n",
       "3  ENSG00000238009\n",
       "4  ENSG00000239945"
      ]
     },
     "execution_count": 18,
     "metadata": {},
     "output_type": "execute_result"
    }
   ],
   "source": [
    "df = pd.read_csv(\"Valid_genes.csv\")\n",
    "df.head()"
   ]
  },
  {
   "cell_type": "code",
   "execution_count": null,
   "metadata": {},
   "outputs": [],
   "source": []
  }
 ],
 "metadata": {
  "kernelspec": {
   "display_name": "Python 3",
   "language": "python",
   "name": "python3"
  },
  "language_info": {
   "codemirror_mode": {
    "name": "ipython",
    "version": 3
   },
   "file_extension": ".py",
   "mimetype": "text/x-python",
   "name": "python",
   "nbconvert_exporter": "python",
   "pygments_lexer": "ipython3",
   "version": "3.7.3"
  }
 },
 "nbformat": 4,
 "nbformat_minor": 2
}
